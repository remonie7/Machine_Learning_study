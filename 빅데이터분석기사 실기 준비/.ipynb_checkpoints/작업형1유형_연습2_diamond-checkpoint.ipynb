{
 "cells": [
  {
   "cell_type": "markdown",
   "metadata": {},
   "source": [
    "### 2. carat과 price 사이의 상관계수와 상관계수의 p-value는?"
   ]
  },
  {
   "cell_type": "code",
   "execution_count": 3,
   "metadata": {},
   "outputs": [
    {
     "name": "stdout",
     "output_type": "stream",
     "text": [
      "(0.9215913011934641, 0.0)\n",
      "SpearmanrResult(correlation=0.9628827988813001, pvalue=0.0)\n",
      "KendalltauResult(correlation=0.8341049107108127, pvalue=0.0)\n"
     ]
    }
   ],
   "source": [
    "import pandas as pd\n",
    "import numpy as np\n",
    "\n",
    "df = pd.read_csv('https://raw.githubusercontent.com/Datamanim/dataq/main/diamonds.csv',index_col=0)\n",
    "\n",
    "from scipy.stats import pearsonr\n",
    "from scipy.stats import spearmanr\n",
    "from scipy.stats import kendalltau\n",
    "\n",
    "print(pearsonr(df['carat'], df['price']))\n",
    "print(spearmanr(df['carat'], df['price']))\n",
    "print(kendalltau(df['carat'], df['price']))"
   ]
  },
  {
   "cell_type": "markdown",
   "metadata": {},
   "source": [
    "### 3. color에 따른 price 값의 분포는 아래의 그래프와 같다. "
   ]
  },
  {
   "cell_type": "code",
   "execution_count": 4,
   "metadata": {},
   "outputs": [
    {
     "data": {
      "text/plain": [
       "<AxesSubplot:xlabel='color', ylabel='price'>"
      ]
     },
     "execution_count": 4,
     "metadata": {},
     "output_type": "execute_result"
    },
    {
     "data": {
      "image/png": "[encoded data removed]",
      "text/plain": [
       "<Figure size 432x288 with 1 Axes>"
      ]
     },
     "metadata": {
      "needs_background": "light"
     },
     "output_type": "display_data"
    }
   ],
   "source": [
    "import seaborn as sns\n",
    "\n",
    "sns.boxplot(data=df, x='color', y='price')"
   ]
  },
  {
   "cell_type": "markdown",
   "metadata": {},
   "source": [
    "### 3-1. Diamond의 평균가격은 3932로 알려져있다. 'H' color를 가지는 다이아몬드 집단의 평균에 대한 일표본 t검정을 시행하려고 한다. 통계량과 pvalue를 구해라. 유의수준 0.05에서 귀무가설 채택여부를 boolean값으로 표현할 변수(hypo) 만들고 출력해라"
   ]
  },
  {
   "cell_type": "code",
   "execution_count": 12,
   "metadata": {
    "scrolled": true
   },
   "outputs": [
    {
     "name": "stdout",
     "output_type": "stream",
     "text": [
      "11.988997411117696\n",
      "7.569973305218302e-33\n",
      "False\n"
     ]
    }
   ],
   "source": [
    "import pandas as pd\n",
    "import numpy as np\n",
    "\n",
    "df = pd.read_csv('https://raw.githubusercontent.com/Datamanim/dataq/main/diamonds.csv',index_col=0)\n",
    "\n",
    "from scipy.stats import stats\n",
    "\n",
    "statistic, pvalue = stats.ttest_1samp(df[df['color']=='H']['price'], 3932)\n",
    "print(statistic)\n",
    "print(pvalue)\n",
    "if pvalue<0.05: hypo=False\n",
    "else: hypo=True\n",
    "print(hypo)"
   ]
  },
  {
   "cell_type": "markdown",
   "metadata": {},
   "source": [
    "### 3-2. 그래프상에서 'F'와 'G'는 평균이 유사해보인다. 이를 확인하기 위해 집단간 등분산(levene, fligner, bartlett) 검정을 시행후 결과를 출력하고 조건에 맞는 독립표본 t검정을 시행하라"
   ]
  },
  {
   "cell_type": "code",
   "execution_count": 22,
   "metadata": {},
   "outputs": [
    {
     "name": "stdout",
     "output_type": "stream",
     "text": [
      "LeveneResult(statistic=53.627886257416655, pvalue=2.511093007074788e-13)\n",
      "FlignerResult(statistic=37.04347553879807, pvalue=1.155244880009172e-09)\n",
      "BartlettResult(statistic=47.52732212008511, pvalue=5.424264079418252e-12)\n",
      "Ttest_indResult(statistic=-5.045279980436125, pvalue=4.5670321227041464e-07)\n"
     ]
    }
   ],
   "source": [
    "import pandas as pd\n",
    "import numpy as np\n",
    "df = pd.read_csv('https://raw.githubusercontent.com/Datamanim/dataq/main/diamonds.csv',index_col=0)\n",
    "\n",
    "from scipy import stats\n",
    "\n",
    "f=df[df['color']=='F']['price']\n",
    "g=df[df['color']=='G']['price']\n",
    "#등분산검정 결과\n",
    "print(stats.levene(f, g))\n",
    "print(stats.fligner(f, g))\n",
    "print(stats.bartlett(f, g))\n",
    "\n",
    "#두 표본의 분산이 동일하지 않으므로, 독립표본t검정시 equal_var=False\n",
    "print(stats.ttest_ind(f, g, equal_var=False))\n"
   ]
  },
  {
   "cell_type": "markdown",
   "metadata": {},
   "source": [
    "### 3-3. color 'F', 'G', 'D' 세 집단의 price값들에 대한 anova 분석을 시행하라"
   ]
  },
  {
   "cell_type": "code",
   "execution_count": 26,
   "metadata": {},
   "outputs": [
    {
     "name": "stdout",
     "output_type": "stream",
     "text": [
      "LeveneResult(statistic=118.97521469312785, pvalue=3.557425577381817e-52)\n",
      "FlignerResult(statistic=494.6459169558573, pvalue=3.881538382653629e-108)\n",
      "BartlettResult(statistic=289.1436443252346, pvalue=1.6340125811454025e-63)\n",
      "KstestResult(statistic=0.06151941343574685, pvalue=1.852300346010811e-17)\n",
      "KstestResult(statistic=0.09505504118130681, pvalue=6.994405055138486e-15)\n",
      "KstestResult(statistic=0.12093708375978551, pvalue=2.0167762615717943e-54)\n",
      "F_onewayResult(statistic=101.1811790316069, pvalue=1.6513790091285713e-44)\n",
      "KruskalResult(statistic=128.85771962090996, pvalue=1.0444838013551115e-28)\n"
     ]
    }
   ],
   "source": [
    "## 아노바는 등분산성, 독립성, 정규성 만족해야 함\n",
    "\n",
    "import pandas as pd\n",
    "import numpy as np\n",
    "df = pd.read_csv('https://raw.githubusercontent.com/Datamanim/dataq/main/diamonds.csv',index_col=0)\n",
    "\n",
    "f=df[df['color']=='F']['price']\n",
    "g=df[df['color']=='G']['price']\n",
    "d=df[df['color']=='D']['price']\n",
    "\n",
    "from scipy import stats\n",
    "# 등분산성\n",
    "print(stats.levene(f, g, d))\n",
    "print(stats.fligner(f, g, d))\n",
    "print(stats.bartlett(f, g, d))\n",
    "\n",
    "# 정규성\n",
    "print(stats.ks_2samp(f,g))\n",
    "print(stats.ks_2samp(f,d))\n",
    "print(stats.ks_2samp(g,d))\n",
    "\n",
    "# 일원분산분석\n",
    "print(stats.f_oneway(f, g, d))\n",
    "print(stats.kruskal(f, g, d)) # 정규성가정 충족되지 않을때\n"
   ]
  },
  {
   "cell_type": "markdown",
   "metadata": {},
   "source": [
    "### 4. 연속형 변수(carat, depth, table, price, x, y, z) 각각의 이상치 갯수를 데이터프레임으로 나타내어라"
   ]
  },
  {
   "cell_type": "code",
   "execution_count": 45,
   "metadata": {},
   "outputs": [
    {
     "name": "stdout",
     "output_type": "stream",
     "text": [
      "     col  ratio\n",
      "3  price   3540\n",
      "1  depth   2545\n",
      "0  carat   1889\n",
      "2  table    605\n",
      "6      z     49\n",
      "4      x     32\n",
      "5      y     29\n"
     ]
    }
   ],
   "source": [
    "import pandas as pd\n",
    "import numpy as np\n",
    "df = pd.read_csv('https://raw.githubusercontent.com/Datamanim/dataq/main/diamonds.csv',index_col=0)\n",
    "\n",
    "df_num = df[['carat', 'depth', 'table', 'price', 'x', 'y', 'z']]\n",
    "\n",
    "lower_out=list(map(lambda x: np.percentile(df_num[x], 25)-(np.percentile(df_num[x], 75)-np.percentile(df_num[x], 25))*1.5, df_num.columns))\n",
    "upper_out=list(map(lambda x: np.percentile(df_num[x], 75)+(np.percentile(df_num[x], 75)-np.percentile(df_num[x], 25))*1.5, df_num.columns))\n",
    "out=list(map(lambda x: (df_num.iloc[:,x]<lower_out[x]).sum()+ (df_num.iloc[:,x]>upper_out[x]).sum(),range(0, len(df_num.columns))))\n",
    "out\n",
    "\n",
    "ratio_df = pd.DataFrame({'col':df_num.columns,\n",
    "                        'ratio':out})\n",
    "ratio_df=ratio_df.sort_values('ratio', ascending=False)\n",
    "print(ratio_df)"
   ]
  },
  {
   "cell_type": "markdown",
   "metadata": {},
   "source": [
    "### 5. color에 따른 price의 max, min, 평균값을 colorDf 변수에 저장하고 출력해라"
   ]
  },
  {
   "cell_type": "code",
   "execution_count": 56,
   "metadata": {},
   "outputs": [
    {
     "data": {
      "text/html": [
       "<div>\n",
       "<style scoped>\n",
       "    .dataframe tbody tr th:only-of-type {\n",
       "        vertical-align: middle;\n",
       "    }\n",
       "\n",
       "    .dataframe tbody tr th {\n",
       "        vertical-align: top;\n",
       "    }\n",
       "\n",
       "    .dataframe thead th {\n",
       "        text-align: right;\n",
       "    }\n",
       "</style>\n",
       "<table border=\"1\" class=\"dataframe\">\n",
       "  <thead>\n",
       "    <tr style=\"text-align: right;\">\n",
       "      <th></th>\n",
       "      <th>max</th>\n",
       "      <th>min</th>\n",
       "      <th>mean</th>\n",
       "    </tr>\n",
       "    <tr>\n",
       "      <th>color</th>\n",
       "      <th></th>\n",
       "      <th></th>\n",
       "      <th></th>\n",
       "    </tr>\n",
       "  </thead>\n",
       "  <tbody>\n",
       "    <tr>\n",
       "      <th>D</th>\n",
       "      <td>18693</td>\n",
       "      <td>357</td>\n",
       "      <td>3169.954096</td>\n",
       "    </tr>\n",
       "    <tr>\n",
       "      <th>E</th>\n",
       "      <td>18731</td>\n",
       "      <td>326</td>\n",
       "      <td>3076.752475</td>\n",
       "    </tr>\n",
       "    <tr>\n",
       "      <th>F</th>\n",
       "      <td>18791</td>\n",
       "      <td>342</td>\n",
       "      <td>3724.886397</td>\n",
       "    </tr>\n",
       "    <tr>\n",
       "      <th>G</th>\n",
       "      <td>18818</td>\n",
       "      <td>354</td>\n",
       "      <td>3999.135671</td>\n",
       "    </tr>\n",
       "    <tr>\n",
       "      <th>H</th>\n",
       "      <td>18803</td>\n",
       "      <td>337</td>\n",
       "      <td>4486.669196</td>\n",
       "    </tr>\n",
       "    <tr>\n",
       "      <th>I</th>\n",
       "      <td>18823</td>\n",
       "      <td>334</td>\n",
       "      <td>5091.874954</td>\n",
       "    </tr>\n",
       "    <tr>\n",
       "      <th>J</th>\n",
       "      <td>18710</td>\n",
       "      <td>335</td>\n",
       "      <td>5323.818020</td>\n",
       "    </tr>\n",
       "  </tbody>\n",
       "</table>\n",
       "</div>"
      ],
      "text/plain": [
       "         max  min         mean\n",
       "color                         \n",
       "D      18693  357  3169.954096\n",
       "E      18731  326  3076.752475\n",
       "F      18791  342  3724.886397\n",
       "G      18818  354  3999.135671\n",
       "H      18803  337  4486.669196\n",
       "I      18823  334  5091.874954\n",
       "J      18710  335  5323.818020"
      ]
     },
     "execution_count": 56,
     "metadata": {},
     "output_type": "execute_result"
    }
   ],
   "source": [
    "import pandas as pd\n",
    "import numpy as np\n",
    "df = pd.read_csv('https://raw.githubusercontent.com/Datamanim/dataq/main/diamonds.csv',index_col=0)\n",
    "\n",
    "mx=df.groupby('color').max()['price']\n",
    "mn=df.groupby('color').min()['price']\n",
    "mean=df.groupby('color').mean()['price']\n",
    "\n",
    "colorDf=pd.concat([mx, mn, mean], axis=1)\n",
    "colorDf.columns=['max','min','mean']\n",
    "colorDf"
   ]
  },
  {
   "cell_type": "markdown",
   "metadata": {},
   "source": [
    "### 6. 전체 데이터 중 color의 발생빈도에 따라 labelEncoding(빈도수 적은것 : 1, 빈도수 증가할수록 1씩 증가)을 하고 colorLable 컬럼에 저장하고 cut에 따른 colorLabel의 평균값을 구해라"
   ]
  },
  {
   "cell_type": "code",
   "execution_count": 89,
   "metadata": {},
   "outputs": [
    {
     "name": "stdout",
     "output_type": "stream",
     "text": [
      "1    6\n",
      "2    6\n",
      "3    6\n",
      "Name: colorLabel, dtype: int64\n",
      "cut\n",
      "Fair         3.547205\n",
      "Good         3.723808\n",
      "Ideal        3.917498\n",
      "Premium      3.850047\n",
      "Very Good    3.803840\n",
      "Name: colorLabel, dtype: float64\n"
     ]
    }
   ],
   "source": [
    "import pandas as pd\n",
    "import numpy as np\n",
    "df = pd.read_csv('https://raw.githubusercontent.com/Datamanim/dataq/main/diamonds.csv',index_col=0)\n",
    "color_sort=df['color'].value_counts().sort_values().index\n",
    "\n",
    "colorLabel=[0]*len(df)\n",
    "for i in range(len(df)):\n",
    "    if df['color'][i+1]==color_sort[0]: colorLabel[i]=1\n",
    "    elif df['color'][i+1]==color_sort[1]: colorLabel[i]=2\n",
    "    elif df['color'][i+1]==color_sort[2]: colorLabel[i]=3\n",
    "    elif df['color'][i+1]==color_sort[3]: colorLabel[i]=4\n",
    "    elif df['color'][i+1]==color_sort[4]: colorLabel[i]=5\n",
    "    elif df['color'][i+1]==color_sort[5]: colorLabel[i]=6\n",
    "    else: colorLabel[i+1]=7\n",
    "        \n",
    "df['colorLabel']=colorLabel\n",
    "print(df['colorLabel'].head(3))\n",
    "print(df.groupby('cut').mean()['colorLabel'])"
   ]
  },
  {
   "cell_type": "markdown",
   "metadata": {},
   "source": [
    "### 7. price의 값에 따른 구간을 1000 단위로 나누고 priceLabel 컬럼에 저장해라. 저장시 숫자순으로 label하고 (0 ~ 1000 : 0, 1001 ~ 2000:1 ...) 최종적으로 구간별 갯수를 출력하라"
   ]
  },
  {
   "cell_type": "code",
   "execution_count": 112,
   "metadata": {},
   "outputs": [
    {
     "data": {
      "text/html": [
       "<div>\n",
       "<style scoped>\n",
       "    .dataframe tbody tr th:only-of-type {\n",
       "        vertical-align: middle;\n",
       "    }\n",
       "\n",
       "    .dataframe tbody tr th {\n",
       "        vertical-align: top;\n",
       "    }\n",
       "\n",
       "    .dataframe thead th {\n",
       "        text-align: right;\n",
       "    }\n",
       "</style>\n",
       "<table border=\"1\" class=\"dataframe\">\n",
       "  <thead>\n",
       "    <tr style=\"text-align: right;\">\n",
       "      <th></th>\n",
       "      <th>binSection</th>\n",
       "      <th>value_counts</th>\n",
       "    </tr>\n",
       "  </thead>\n",
       "  <tbody>\n",
       "    <tr>\n",
       "      <th>0</th>\n",
       "      <td>0</td>\n",
       "      <td>14524</td>\n",
       "    </tr>\n",
       "    <tr>\n",
       "      <th>1</th>\n",
       "      <td>1</td>\n",
       "      <td>9683</td>\n",
       "    </tr>\n",
       "    <tr>\n",
       "      <th>2</th>\n",
       "      <td>2</td>\n",
       "      <td>6129</td>\n",
       "    </tr>\n",
       "    <tr>\n",
       "      <th>4</th>\n",
       "      <td>3</td>\n",
       "      <td>4225</td>\n",
       "    </tr>\n",
       "    <tr>\n",
       "      <th>3</th>\n",
       "      <td>4</td>\n",
       "      <td>4665</td>\n",
       "    </tr>\n",
       "    <tr>\n",
       "      <th>5</th>\n",
       "      <td>5</td>\n",
       "      <td>3163</td>\n",
       "    </tr>\n",
       "    <tr>\n",
       "      <th>6</th>\n",
       "      <td>6</td>\n",
       "      <td>2278</td>\n",
       "    </tr>\n",
       "    <tr>\n",
       "      <th>7</th>\n",
       "      <td>7</td>\n",
       "      <td>1668</td>\n",
       "    </tr>\n",
       "    <tr>\n",
       "      <th>8</th>\n",
       "      <td>8</td>\n",
       "      <td>1307</td>\n",
       "    </tr>\n",
       "    <tr>\n",
       "      <th>9</th>\n",
       "      <td>9</td>\n",
       "      <td>1076</td>\n",
       "    </tr>\n",
       "    <tr>\n",
       "      <th>10</th>\n",
       "      <td>10</td>\n",
       "      <td>934</td>\n",
       "    </tr>\n",
       "    <tr>\n",
       "      <th>11</th>\n",
       "      <td>11</td>\n",
       "      <td>825</td>\n",
       "    </tr>\n",
       "    <tr>\n",
       "      <th>12</th>\n",
       "      <td>12</td>\n",
       "      <td>701</td>\n",
       "    </tr>\n",
       "    <tr>\n",
       "      <th>13</th>\n",
       "      <td>13</td>\n",
       "      <td>603</td>\n",
       "    </tr>\n",
       "    <tr>\n",
       "      <th>15</th>\n",
       "      <td>14</td>\n",
       "      <td>504</td>\n",
       "    </tr>\n",
       "    <tr>\n",
       "      <th>14</th>\n",
       "      <td>15</td>\n",
       "      <td>513</td>\n",
       "    </tr>\n",
       "    <tr>\n",
       "      <th>16</th>\n",
       "      <td>16</td>\n",
       "      <td>425</td>\n",
       "    </tr>\n",
       "    <tr>\n",
       "      <th>17</th>\n",
       "      <td>17</td>\n",
       "      <td>405</td>\n",
       "    </tr>\n",
       "    <tr>\n",
       "      <th>18</th>\n",
       "      <td>18</td>\n",
       "      <td>312</td>\n",
       "    </tr>\n",
       "  </tbody>\n",
       "</table>\n",
       "</div>"
      ],
      "text/plain": [
       "    binSection  value_counts\n",
       "0            0         14524\n",
       "1            1          9683\n",
       "2            2          6129\n",
       "4            3          4225\n",
       "3            4          4665\n",
       "5            5          3163\n",
       "6            6          2278\n",
       "7            7          1668\n",
       "8            8          1307\n",
       "9            9          1076\n",
       "10          10           934\n",
       "11          11           825\n",
       "12          12           701\n",
       "13          13           603\n",
       "15          14           504\n",
       "14          15           513\n",
       "16          16           425\n",
       "17          17           405\n",
       "18          18           312"
      ]
     },
     "execution_count": 112,
     "metadata": {},
     "output_type": "execute_result"
    }
   ],
   "source": [
    "import pandas as pd\n",
    "import numpy as np\n",
    "df = pd.read_csv('https://raw.githubusercontent.com/Datamanim/dataq/main/diamonds.csv',index_col=0)\n",
    "\n",
    "df['priceLabel']=np.trunc((df['price']-1)/1000).astype(int)\n",
    "#labelCount=\n",
    "labelCount=df['priceLabel'].value_counts().to_frame().reset_index()\n",
    "labelCount.columns=['binSection', 'value_counts']\n",
    "labelCount=labelCount.sort_values('binSection')\n",
    "labelCount"
   ]
  },
  {
   "cell_type": "code",
   "execution_count": null,
   "metadata": {},
   "outputs": [],
   "source": []
  }
 ],
 "metadata": {
  "kernelspec": {
   "display_name": "Python 3",
   "language": "python",
   "name": "python3"
  },
  "language_info": {
   "codemirror_mode": {
    "name": "ipython",
    "version": 3
   },
   "file_extension": ".py",
   "mimetype": "text/x-python",
   "name": "python",
   "nbconvert_exporter": "python",
   "pygments_lexer": "ipython3",
   "version": "3.8.5"
  }
 },
 "nbformat": 4,
 "nbformat_minor": 4
}
