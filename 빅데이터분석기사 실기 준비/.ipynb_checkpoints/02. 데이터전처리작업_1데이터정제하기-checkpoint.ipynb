{
 "cells": [
  {
   "cell_type": "markdown",
   "metadata": {},
   "source": [
    "# 데이터 정제\n",
    "- 결측값, 잡음, 이상값 등 데이터 오류를 일으킬 수 있는 요인을 분석 작업 전에 삭제 혹은 대체 등의 방법으로 클렌징 하는 것"
   ]
  },
  {
   "cell_type": "markdown",
   "metadata": {},
   "source": [
    "## 결측값\n",
    "#### 결측값의 유형\n",
    "###### - 완전 무작위 결측(MCAR)\n",
    "- 다른 변수와 무관하게 랜덤으로 발생한 결측\n",
    "- 데이터셋이 대규모인 경우, 단순 무작위 표본 추출을 통해 완벽한 데이터 만들 수도 있음\n",
    "- 고의성 없이 응답을 빠뜨린 경우\n",
    "\n",
    "###### - 무작위 결측(MAR)\n",
    "- 결측이 다른 변수와 연관이 있지만, 그 자체가 결과 분포 자체에 영향을 미치지는 않음 (비관측된 값들과는 연관되어 있지 않음)\n",
    "- 특정 변수의 값에 따라 결측이 영향을 받을 수는 있지만, 결측이 얻고자 하는 결과 자체에 편향이 생기지는 않는 경우\n",
    "\n",
    "###### - 비무작위 결측(NMAR)\n",
    "- 결측값이 결괏값에 영향을 미치는 경우 (완전 무작위, 무작위가 아닌 경우)\n",
    "\n",
    "\n",
    "#### 결측값 처리\n",
    "###### - 삭제\n",
    "- 특정 단일값 삭제\n",
    "- 목록 삭제\n",
    "- (완전 무작위 결측의 경우 제거하기가 가장 효율적인 방법)\n",
    "\n",
    "###### - 대체(보완)\n",
    "- 특정값 대체\n",
    "- 다중 대치법 : 여러 번의 결측치 추정을 통해 결측치가 대체된 데이터셋을 생성하여 결측치를 대체하는 방법으로, 주로 복잡한 결측값을 다루는 데 사용"
   ]
  },
  {
   "cell_type": "code",
   "execution_count": null,
   "metadata": {},
   "outputs": [],
   "source": [
    "# dropna\n",
    "df.dropna() # 결측치가 하나라도 있는 row 지우기\n",
    "df.dropna(axis=1)\n",
    "df['a'].dropna()\n",
    "df[['a', 'b']].dropna()\n",
    "df.dropna(how='all')  # 모든 속성값이 널인 row 지우기\n",
    "\n",
    "\n",
    "#drop\n",
    "df.drop('col1', axis=1)\n",
    "\n",
    "\n",
    "#fillna()\n",
    "df.fillna(0, axis=0, inplace=True)\n",
    "df['col1'].fillna(df['col1'].median(), axis=0, inplace=True)\n",
    "df.fillna({'col1':1, 'col2':2, 'col3':3})\n",
    "df['col1'].fillna(value=pd.Series([1,2,3,4,5]))\n",
    "df[['col1', 'col2']].fillna(pd.DataFrame({'col1':[1,2,3,4,5], 'col2':[1,2,3,4,5]}))\n",
    "\n",
    "df.fillna(method='backfill')  #Nan 값을 뒤의 값으로 채운다\n",
    "df.fillna(method='bfill')   #Nan 값을 뒤의 값으로 채운다\n",
    "df.fillna(method='pad')    #Nan 값을 앞의 값으로 채운다\n",
    "df.fillna(method='ffill')  #Nan 값을 앞의 값으로 채운다\n",
    "\n",
    "\n",
    "# sklearn.impute\n",
    "from sklearn.impute import SimpleImputer\n",
    "imputer = SimpleImputer(strategy=\"median\")\n",
    "imputer.fit(data)\n",
    "X=imputer.transform(data)\n",
    "data=pd.DataFrame(X, columns=data.columns)"
   ]
  },
  {
   "cell_type": "markdown",
   "metadata": {},
   "source": [
    "## 이상값\n",
    "#### 이상값 검출 방법\n",
    "- 분산 : 2.5% ~ 97.5%\n",
    "- 우도\n",
    "- 근접 이웃 기반 이상치 탐지 : 정상값에서 멀리 떨어진 (유클리드 거리, 단순 일치 계수)\n",
    "- 밀도 기반 탐지 : 상대적 밀도(LOF) 고려\n",
    "- 군집\n",
    "- 사분위수 : Q1-1.5IQR ~ Q3+1.5IQR\n",
    "\n",
    "#### 이상값 처리 방법\n",
    "- 하한-상한값으로 대체\n",
    "- 평균 표준 편차는 평균값을 기준으로 한 값으로 범위 밖의 값 대체\n",
    "- 평균 절대 편차는 중앙값을 기준으로 N편차로 큰 값\n",
    "- P번째 백분위 수보다 큰 값 대체"
   ]
  },
  {
   "cell_type": "code",
   "execution_count": null,
   "metadata": {},
   "outputs": [],
   "source": [
    "\n",
    "        \n",
    "        \n",
    "# IQR\n",
    "quartile_1, quartile_3 = np.percentile(ys, [25, 75])\n",
    "iqr = quartile_3 - quartile_1\n",
    "lower_bound = quartile_1 - (iqr * 1.5)\n",
    "upper_bound = quartile_3 + (iqr * 1.5)\n",
    "np.where((ys > upper_bound), upper_bound, ys)\n",
    "np.where((ys < lower_bound), lower_bound, ys)\n",
    "\n"
   ]
  },
  {
   "cell_type": "code",
   "execution_count": null,
   "metadata": {},
   "outputs": [],
   "source": []
  }
 ],
 "metadata": {
  "kernelspec": {
   "display_name": "Python 3",
   "language": "python",
   "name": "python3"
  },
  "language_info": {
   "codemirror_mode": {
    "name": "ipython",
    "version": 3
   },
   "file_extension": ".py",
   "mimetype": "text/x-python",
   "name": "python",
   "nbconvert_exporter": "python",
   "pygments_lexer": "ipython3",
   "version": "3.8.5"
  }
 },
 "nbformat": 4,
 "nbformat_minor": 4
}
