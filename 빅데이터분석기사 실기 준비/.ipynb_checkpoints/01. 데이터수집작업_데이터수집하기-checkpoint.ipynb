{
 "cells": [
  {
   "cell_type": "markdown",
   "metadata": {},
   "source": [
    "###### 데이터 수집 시 고려할 사항\n",
    "- 데이터의 위치\n",
    "- 주기\n",
    "- 수집 방법\n",
    "- 저장 형태\n",
    "\n",
    "\n",
    "###### 데이터 수집 절차\n",
    "- 데이터 선정 : 수집 가능 여부, 주기적 수집 가능 여부, 법적 문제, 비용 등을 고려\n",
    "- 수집 세부 계획 수립 : 데이터 유형 (정형/비정형/반정형)에 따라 수집 계획\n",
    "- 테스트 수집 실행 : 수집 가능성, 보안 문제, 정확성 등을 만족하는지 검증하고 실제 활용 가능성까지 검토"
   ]
  },
  {
   "cell_type": "markdown",
   "metadata": {},
   "source": [
    "###### 데이터 유형에 따른 수집 방법\n",
    "|데이터 유형|데이터 종류|데이터 수집 방법|\n",
    "|---|---|---|\n",
    "|정형 데이터|DBMS, 스프레드시트|ETL, FTP, OpenAPI|\n",
    "|반정형 데이터|HTML, XML, JSON, 웹 문서, 웹로그, 센서 데이터|웹 크롤링, RSS, OpenAPI, FTP|\n",
    "|비정형 데이터|소셜 데이터, 문서, 이미지, 오디오, 비디오, IoT|웹 크롤링, RSS, OpenAPI, Streaming, FTP|\n",
    "\n",
    "\n",
    "> 용어 정리\n",
    "> - ETL : 추출, 변환, 적재(extract, transform, load)\n",
    "> - FTP : 파일 전송 프로토콜\n",
    "> - RSS : 새 기사들의 제목만, 또는 새 기사들 전체를 뽑아서 하나의 파일로 만들어 놓은 것 (XML 기반의 표준)"
   ]
  },
  {
   "cell_type": "markdown",
   "metadata": {},
   "source": [
    "###### 내부 데이터와 외부 데이터\n",
    "- 내부 데이터 : 자체적으로 시스템 내부에 보유하고 있는 데이터 (대부분 정형), 데이터 수집 시에 내부 파일 시스템, DBMS, 센서 등에 접근할 수 있다. 대표적인 내부 데이터 수집 방법은 ETL이다.\n",
    "- 외부 데이터 : 원천 데이터가 외부시스템에 있는 경우(대부분 비정형, 반정형). 수집이 어려울 수 있음"
   ]
  },
  {
   "cell_type": "markdown",
   "metadata": {},
   "source": [
    "## 1. 정형, 반정형, 비정형 등 다양한 형태의 데이터 읽기"
   ]
  },
  {
   "cell_type": "markdown",
   "metadata": {},
   "source": [
    "- 표 형태 텍스트 파일\n",
    "- 엑셀 파일\n",
    "- 관계형 데이터베이스 (RDBMS)\n",
    "- 다른 소프트웨어용 이진(binary) 파일 : SAS, SPSS 등"
   ]
  },
  {
   "cell_type": "code",
   "execution_count": null,
   "metadata": {},
   "outputs": [],
   "source": [
    "### 정형 데이터\n",
    "\n",
    "import pandas as pd\n",
    "\n",
    "# 표 형태\n",
    "data=pd.read_csv(\"a.csv\", sep=\",\", header=1, ...)\n",
    "\n",
    "# 엑셀 파일\n",
    "data=pd.read_excel(\"a.xlsx\")\n",
    "\n"
   ]
  },
  {
   "cell_type": "code",
   "execution_count": null,
   "metadata": {},
   "outputs": [],
   "source": [
    "# RDBMS\n",
    "\n",
    "import pyodbc\n",
    "import pandas as pd\n",
    "server = \"서버 주소\" #(DB 접속ip)\n",
    "user = \"접속유저\"\n",
    "pasword = \"패스워드\"\n",
    "db = \"데이터베이스명\"\n",
    "\n",
    "cnxn = \"DRIVER={SQL Server};SERVER=\" + server + \";uid=\" + user + \";pwd=\" + pasword + \";DATABASE=\" + db\n",
    "cursor = cnxn.cursor()\n",
    "\n",
    "cnxn =  pymssql.connect(server , username, password,database,autocommit = False)\n",
    "cursor = cnxn.cursor()\n",
    "\n",
    "sql = 'SELECT * FROM TEST'\n",
    "df = pd.read_sql(sql, cnxn)\n",
    "print(df)\n",
    "\n",
    "cursor.close()"
   ]
  },
  {
   "cell_type": "code",
   "execution_count": null,
   "metadata": {},
   "outputs": [],
   "source": [
    "### 반정형 데이터\n",
    "\n",
    "# JSON 파일\n",
    "import json\n",
    "data = pd.read_json(\"a.json\", lines=True)\n",
    "\n",
    "# html \n",
    "from bs4 import BeautifulSoup\n",
    "import requests\n",
    "import pandas as pd\n",
    "data=pd.read_html('url', header=0, encoding=)\n",
    "\n",
    "\n",
    "#html = requests.get(url).text\n",
    "data = urlopen(url).read()  # requests.get(url).content\n",
    "soup = BeautifulSoup(data, \"html.parser\")\n",
    "items = soup.find(\"items\")"
   ]
  }
 ],
 "metadata": {
  "kernelspec": {
   "display_name": "Python 3",
   "language": "python",
   "name": "python3"
  },
  "language_info": {
   "codemirror_mode": {
    "name": "ipython",
    "version": 3
   },
   "file_extension": ".py",
   "mimetype": "text/x-python",
   "name": "python",
   "nbconvert_exporter": "python",
   "pygments_lexer": "ipython3",
   "version": "3.8.5"
  }
 },
 "nbformat": 4,
 "nbformat_minor": 4
}
