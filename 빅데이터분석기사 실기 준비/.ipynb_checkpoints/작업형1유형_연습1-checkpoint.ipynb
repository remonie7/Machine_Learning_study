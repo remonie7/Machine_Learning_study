{
 "cells": [
  {
   "cell_type": "markdown",
   "metadata": {},
   "source": [
    "### 1. qsec 컬럼을 최대 최소 척도로 변환 후 0.5보다 큰 값을 가지는 레코드 수 구해라"
   ]
  },
  {
   "cell_type": "code",
   "execution_count": 5,
   "metadata": {},
   "outputs": [
    {
     "name": "stdout",
     "output_type": "stream",
     "text": [
      "9\n"
     ]
    }
   ],
   "source": [
    "import pandas as pd\n",
    "import numpy as np\n",
    "\n",
    "df = pd.read_csv('https://raw.githubusercontent.com/Datamanim/dataq/main/mtcars.csv',index_col=0)\n",
    "#print(df['qsec'])\n",
    "qsec_min=np.min(df['qsec'])\n",
    "qsec_max=np.max(df['qsec'])\n",
    "df['qsec']=[(x-qsec_min)/(qsec_max-qsec_min) for x in df['qsec']]\n",
    "print(len(df[df['qsec']>0.5]))"
   ]
  },
  {
   "cell_type": "markdown",
   "metadata": {},
   "source": [
    "### 2. qsec 컬럼을 표준정규분포 데이터 표준화 변환 후 최대, 최소값을 구해라"
   ]
  },
  {
   "cell_type": "code",
   "execution_count": 11,
   "metadata": {},
   "outputs": [
    {
     "name": "stdout",
     "output_type": "stream",
     "text": [
      "2.826754592962484 -1.8740102832334835\n"
     ]
    }
   ],
   "source": [
    "import pandas as pd\n",
    "import numpy as np\n",
    "\n",
    "df = pd.read_csv('https://raw.githubusercontent.com/Datamanim/dataq/main/mtcars.csv',index_col=0)\n",
    "mu=df.qsec.mean()\n",
    "sd=df.qsec.std()\n",
    "\n",
    "df['qsec']=[(x-mu)/sd for x in df['qsec']]\n",
    "\n",
    "rst_max=np.max(df['qsec'])\n",
    "rst_min=np.min(df['qsec'])\n",
    "print(rst_max, rst_min)"
   ]
  },
  {
   "cell_type": "markdown",
   "metadata": {},
   "source": [
    "### 3. wt 컬럼의 이상치를 outlier 변수에 저장해라"
   ]
  },
  {
   "cell_type": "code",
   "execution_count": 17,
   "metadata": {},
   "outputs": [
    {
     "name": "stdout",
     "output_type": "stream",
     "text": [
      "[5.25  5.424 5.345]\n"
     ]
    }
   ],
   "source": [
    "import pandas as pd\n",
    "import numpy as np\n",
    "\n",
    "df = pd.read_csv('https://raw.githubusercontent.com/Datamanim/dataq/main/mtcars.csv',index_col=0)\n",
    "\n",
    "iqr=np.percentile(df['wt'], 75)-np.percentile(df['wt'], 25)\n",
    "#print(iqr)\n",
    "upper_outlier=iqr*1.5 + np.percentile(df['wt'], 75)\n",
    "lower_outlier=np.percentile(df['wt'], 25) - (iqr*1.5)\n",
    "#print(upper_outlier, lower_outlier)\n",
    "\n",
    "outlier=df[(df['wt']<lower_outlier) | (df['wt']>upper_outlier)]['wt'].values\n",
    "print(outlier)"
   ]
  },
  {
   "cell_type": "markdown",
   "metadata": {},
   "source": [
    "### 4. mpg 변수와 나머지 변수들의 상관관계를 구하여 내림차순 정렬하여라"
   ]
  },
  {
   "cell_type": "code",
   "execution_count": 21,
   "metadata": {},
   "outputs": [
    {
     "name": "stdout",
     "output_type": "stream",
     "text": [
      "drat    0.681172\n",
      "vs      0.664039\n",
      "am      0.599832\n",
      "gear    0.480285\n",
      "qsec    0.418684\n",
      "carb   -0.550925\n",
      "hp     -0.776168\n",
      "disp   -0.847551\n",
      "cyl    -0.852162\n",
      "wt     -0.867659\n",
      "Name: mpg, dtype: float64\n"
     ]
    }
   ],
   "source": [
    "import pandas as pd\n",
    "import numpy as np\n",
    "\n",
    "df = pd.read_csv('https://raw.githubusercontent.com/Datamanim/dataq/main/mtcars.csv',index_col=0)\n",
    "\n",
    "print(df.corr()['mpg'].sort_values(ascending=False)[1:])"
   ]
  },
  {
   "cell_type": "markdown",
   "metadata": {},
   "source": [
    "### 5. mpg 변수를 제외하고 데이터 정규화 과정을 진행한 이후 pca를 통해 변수 축소를 하려한다. 누적설명 분산량이 92%를 넘기기 위해 몇개의 주성분을 선택해야하는지 설명해라"
   ]
  },
  {
   "cell_type": "code",
   "execution_count": 37,
   "metadata": {
    "scrolled": true
   },
   "outputs": [
    {
     "data": {
      "text/plain": [
       "array([0.57602174, 0.84098606, 0.90070755, 0.92765822, 0.94988322,\n",
       "       0.97089497, 0.98418697, 0.99225513, 0.99762037, 1.        ])"
      ]
     },
     "execution_count": 37,
     "metadata": {},
     "output_type": "execute_result"
    }
   ],
   "source": [
    "import pandas as pd\n",
    "import numpy as np\n",
    "\n",
    "df = pd.read_csv('https://raw.githubusercontent.com/Datamanim/dataq/main/mtcars.csv',index_col=0)\n",
    "\n",
    "for col in df.columns[1:]:\n",
    "    mu=df[col].mean()\n",
    "    sd=df[col].std()\n",
    "    df[col]=[(x-mu)/sd for x in df[col]]\n",
    "\n",
    "\n",
    "from sklearn.preprocessing import StandardScaler\n",
    "scaler=StandardScaler()\n",
    "scaler.fit(df[['cyl', 'disp', 'hp', 'drat', 'wt', 'qsec', 'vs', 'am', 'gear','carb']])\n",
    "df[['cyl', 'disp', 'hp', 'drat', 'wt', 'qsec', 'vs', 'am', 'gear','carb']]=scaler.transform(df[['cyl', 'disp', 'hp', 'drat', 'wt', 'qsec', 'vs', 'am', 'gear','carb']])\n",
    "df\n",
    "    \n",
    "from sklearn.decomposition import PCA\n",
    "pca=PCA()\n",
    "pca.fit_transform(df[['cyl', 'disp', 'hp', 'drat', 'wt', 'qsec', 'vs', 'am', 'gear','carb']])\n",
    "pca.explained_variance_ratio_.cumsum()"
   ]
  },
  {
   "cell_type": "markdown",
   "metadata": {},
   "source": [
    "### 6. 데이터의 index는 (업체명) (모델명)으로 구성되어 있다. 데이터에 brand 컬럼을 추가하고 value 값으로 업체명을 입력해라"
   ]
  },
  {
   "cell_type": "code",
   "execution_count": 44,
   "metadata": {
    "scrolled": true
   },
   "outputs": [
    {
     "name": "stdout",
     "output_type": "stream",
     "text": [
      "Mazda RX4                 Mazda\n",
      "Mazda RX4 Wag             Mazda\n",
      "Datsun 710               Datsun\n",
      "Hornet 4 Drive           Hornet\n",
      "Hornet Sportabout        Hornet\n",
      "Valiant                 Valiant\n",
      "Duster 360               Duster\n",
      "Merc 240D                  Merc\n",
      "Merc 230                   Merc\n",
      "Merc 280                   Merc\n",
      "Merc 280C                  Merc\n",
      "Merc 450SE                 Merc\n",
      "Merc 450SL                 Merc\n",
      "Merc 450SLC                Merc\n",
      "Cadillac Fleetwood     Cadillac\n",
      "Lincoln Continental     Lincoln\n",
      "Chrysler Imperial      Chrysler\n",
      "Fiat 128                   Fiat\n",
      "Honda Civic               Honda\n",
      "Toyota Corolla           Toyota\n",
      "Toyota Corona            Toyota\n",
      "Dodge Challenger          Dodge\n",
      "AMC Javelin                 AMC\n",
      "Camaro Z28               Camaro\n",
      "Pontiac Firebird        Pontiac\n",
      "Fiat X1-9                  Fiat\n",
      "Porsche 914-2           Porsche\n",
      "Lotus Europa              Lotus\n",
      "Ford Pantera L             Ford\n",
      "Ferrari Dino            Ferrari\n",
      "Maserati Bora          Maserati\n",
      "Volvo 142E                Volvo\n",
      "Name: brand, dtype: object\n"
     ]
    }
   ],
   "source": [
    "import pandas as pd\n",
    "import numpy as np\n",
    "\n",
    "df = pd.read_csv('https://raw.githubusercontent.com/Datamanim/dataq/main/mtcars.csv',index_col=0)\n",
    "\n",
    "\n",
    "df['brand']=[x.split(' ')[0] for x in df.index]\n",
    "print(df['brand'])"
   ]
  },
  {
   "cell_type": "markdown",
   "metadata": {},
   "source": [
    "### 7. 추가된 brand 컬럼을 제외한 모든 컬럼을 통해 pca를 실시해라. 2개의 주성분과 brand 컬럼으로 구성된 새로운 데이터 프레임을 출력해라"
   ]
  },
  {
   "cell_type": "code",
   "execution_count": 52,
   "metadata": {},
   "outputs": [
    {
     "data": {
      "text/html": [
       "<div>\n",
       "<style scoped>\n",
       "    .dataframe tbody tr th:only-of-type {\n",
       "        vertical-align: middle;\n",
       "    }\n",
       "\n",
       "    .dataframe tbody tr th {\n",
       "        vertical-align: top;\n",
       "    }\n",
       "\n",
       "    .dataframe thead tr th {\n",
       "        text-align: left;\n",
       "    }\n",
       "</style>\n",
       "<table border=\"1\" class=\"dataframe\">\n",
       "  <thead>\n",
       "    <tr>\n",
       "      <th></th>\n",
       "      <th>pca1</th>\n",
       "      <th>pca2</th>\n",
       "      <th>brand</th>\n",
       "    </tr>\n",
       "  </thead>\n",
       "  <tbody>\n",
       "    <tr>\n",
       "      <th>Mazda RX4</th>\n",
       "      <td>-79.596425</td>\n",
       "      <td>-2.132241</td>\n",
       "      <td>Mazda</td>\n",
       "    </tr>\n",
       "    <tr>\n",
       "      <th>Mazda RX4 Wag</th>\n",
       "      <td>-79.598570</td>\n",
       "      <td>-2.147487</td>\n",
       "      <td>Mazda</td>\n",
       "    </tr>\n",
       "    <tr>\n",
       "      <th>Datsun 710</th>\n",
       "      <td>-133.894096</td>\n",
       "      <td>5.057570</td>\n",
       "      <td>Datsun</td>\n",
       "    </tr>\n",
       "    <tr>\n",
       "      <th>Hornet 4 Drive</th>\n",
       "      <td>8.516559</td>\n",
       "      <td>-44.985630</td>\n",
       "      <td>Hornet</td>\n",
       "    </tr>\n",
       "    <tr>\n",
       "      <th>Hornet Sportabout</th>\n",
       "      <td>128.686342</td>\n",
       "      <td>-30.817402</td>\n",
       "      <td>Hornet</td>\n",
       "    </tr>\n",
       "    <tr>\n",
       "      <th>Valiant</th>\n",
       "      <td>-23.220146</td>\n",
       "      <td>-35.106518</td>\n",
       "      <td>Valiant</td>\n",
       "    </tr>\n",
       "    <tr>\n",
       "      <th>Duster 360</th>\n",
       "      <td>159.309025</td>\n",
       "      <td>32.259197</td>\n",
       "      <td>Duster</td>\n",
       "    </tr>\n",
       "    <tr>\n",
       "      <th>Merc 240D</th>\n",
       "      <td>-112.615805</td>\n",
       "      <td>-39.702195</td>\n",
       "      <td>Merc</td>\n",
       "    </tr>\n",
       "    <tr>\n",
       "      <th>Merc 230</th>\n",
       "      <td>-103.534591</td>\n",
       "      <td>-7.513104</td>\n",
       "      <td>Merc</td>\n",
       "    </tr>\n",
       "    <tr>\n",
       "      <th>Merc 280</th>\n",
       "      <td>-67.046877</td>\n",
       "      <td>6.208536</td>\n",
       "      <td>Merc</td>\n",
       "    </tr>\n",
       "    <tr>\n",
       "      <th>Merc 280C</th>\n",
       "      <td>-66.997514</td>\n",
       "      <td>6.206387</td>\n",
       "      <td>Merc</td>\n",
       "    </tr>\n",
       "    <tr>\n",
       "      <th>Merc 450SE</th>\n",
       "      <td>55.211672</td>\n",
       "      <td>10.373509</td>\n",
       "      <td>Merc</td>\n",
       "    </tr>\n",
       "    <tr>\n",
       "      <th>Merc 450SL</th>\n",
       "      <td>55.173910</td>\n",
       "      <td>10.361893</td>\n",
       "      <td>Merc</td>\n",
       "    </tr>\n",
       "    <tr>\n",
       "      <th>Merc 450SLC</th>\n",
       "      <td>55.251602</td>\n",
       "      <td>10.370934</td>\n",
       "      <td>Merc</td>\n",
       "    </tr>\n",
       "    <tr>\n",
       "      <th>Cadillac Fleetwood</th>\n",
       "      <td>242.814893</td>\n",
       "      <td>-52.501758</td>\n",
       "      <td>Cadillac</td>\n",
       "    </tr>\n",
       "    <tr>\n",
       "      <th>Lincoln Continental</th>\n",
       "      <td>236.369886</td>\n",
       "      <td>-38.280788</td>\n",
       "      <td>Lincoln</td>\n",
       "    </tr>\n",
       "    <tr>\n",
       "      <th>Chrysler Imperial</th>\n",
       "      <td>224.737944</td>\n",
       "      <td>-16.111941</td>\n",
       "      <td>Chrysler</td>\n",
       "    </tr>\n",
       "    <tr>\n",
       "      <th>Fiat 128</th>\n",
       "      <td>-172.363654</td>\n",
       "      <td>-6.575522</td>\n",
       "      <td>Fiat</td>\n",
       "    </tr>\n",
       "    <tr>\n",
       "      <th>Honda Civic</th>\n",
       "      <td>-181.066911</td>\n",
       "      <td>-17.783639</td>\n",
       "      <td>Honda</td>\n",
       "    </tr>\n",
       "    <tr>\n",
       "      <th>Toyota Corolla</th>\n",
       "      <td>-179.697852</td>\n",
       "      <td>-4.188212</td>\n",
       "      <td>Toyota</td>\n",
       "    </tr>\n",
       "    <tr>\n",
       "      <th>Toyota Corona</th>\n",
       "      <td>-121.224099</td>\n",
       "      <td>3.345362</td>\n",
       "      <td>Toyota</td>\n",
       "    </tr>\n",
       "    <tr>\n",
       "      <th>Dodge Challenger</th>\n",
       "      <td>80.159386</td>\n",
       "      <td>-34.983214</td>\n",
       "      <td>Dodge</td>\n",
       "    </tr>\n",
       "    <tr>\n",
       "      <th>AMC Javelin</th>\n",
       "      <td>67.572431</td>\n",
       "      <td>-28.894067</td>\n",
       "      <td>AMC</td>\n",
       "    </tr>\n",
       "    <tr>\n",
       "      <th>Camaro Z28</th>\n",
       "      <td>150.354631</td>\n",
       "      <td>36.633575</td>\n",
       "      <td>Camaro</td>\n",
       "    </tr>\n",
       "    <tr>\n",
       "      <th>Pontiac Firebird</th>\n",
       "      <td>164.652522</td>\n",
       "      <td>-48.239880</td>\n",
       "      <td>Pontiac</td>\n",
       "    </tr>\n",
       "    <tr>\n",
       "      <th>Fiat X1-9</th>\n",
       "      <td>-171.897231</td>\n",
       "      <td>-6.643746</td>\n",
       "      <td>Fiat</td>\n",
       "    </tr>\n",
       "    <tr>\n",
       "      <th>Porsche 914-2</th>\n",
       "      <td>-123.804988</td>\n",
       "      <td>-2.033356</td>\n",
       "      <td>Porsche</td>\n",
       "    </tr>\n",
       "    <tr>\n",
       "      <th>Lotus Europa</th>\n",
       "      <td>-137.082789</td>\n",
       "      <td>28.675647</td>\n",
       "      <td>Lotus</td>\n",
       "    </tr>\n",
       "    <tr>\n",
       "      <th>Ford Pantera L</th>\n",
       "      <td>159.413222</td>\n",
       "      <td>53.318347</td>\n",
       "      <td>Ford</td>\n",
       "    </tr>\n",
       "    <tr>\n",
       "      <th>Ferrari Dino</th>\n",
       "      <td>-64.762396</td>\n",
       "      <td>62.954280</td>\n",
       "      <td>Ferrari</td>\n",
       "    </tr>\n",
       "    <tr>\n",
       "      <th>Maserati Bora</th>\n",
       "      <td>145.361703</td>\n",
       "      <td>139.049149</td>\n",
       "      <td>Maserati</td>\n",
       "    </tr>\n",
       "    <tr>\n",
       "      <th>Volvo 142E</th>\n",
       "      <td>-115.181783</td>\n",
       "      <td>13.826313</td>\n",
       "      <td>Volvo</td>\n",
       "    </tr>\n",
       "  </tbody>\n",
       "</table>\n",
       "</div>"
      ],
      "text/plain": [
       "                           pca1        pca2     brand\n",
       "Mazda RX4            -79.596425   -2.132241     Mazda\n",
       "Mazda RX4 Wag        -79.598570   -2.147487     Mazda\n",
       "Datsun 710          -133.894096    5.057570    Datsun\n",
       "Hornet 4 Drive         8.516559  -44.985630    Hornet\n",
       "Hornet Sportabout    128.686342  -30.817402    Hornet\n",
       "Valiant              -23.220146  -35.106518   Valiant\n",
       "Duster 360           159.309025   32.259197    Duster\n",
       "Merc 240D           -112.615805  -39.702195      Merc\n",
       "Merc 230            -103.534591   -7.513104      Merc\n",
       "Merc 280             -67.046877    6.208536      Merc\n",
       "Merc 280C            -66.997514    6.206387      Merc\n",
       "Merc 450SE            55.211672   10.373509      Merc\n",
       "Merc 450SL            55.173910   10.361893      Merc\n",
       "Merc 450SLC           55.251602   10.370934      Merc\n",
       "Cadillac Fleetwood   242.814893  -52.501758  Cadillac\n",
       "Lincoln Continental  236.369886  -38.280788   Lincoln\n",
       "Chrysler Imperial    224.737944  -16.111941  Chrysler\n",
       "Fiat 128            -172.363654   -6.575522      Fiat\n",
       "Honda Civic         -181.066911  -17.783639     Honda\n",
       "Toyota Corolla      -179.697852   -4.188212    Toyota\n",
       "Toyota Corona       -121.224099    3.345362    Toyota\n",
       "Dodge Challenger      80.159386  -34.983214     Dodge\n",
       "AMC Javelin           67.572431  -28.894067       AMC\n",
       "Camaro Z28           150.354631   36.633575    Camaro\n",
       "Pontiac Firebird     164.652522  -48.239880   Pontiac\n",
       "Fiat X1-9           -171.897231   -6.643746      Fiat\n",
       "Porsche 914-2       -123.804988   -2.033356   Porsche\n",
       "Lotus Europa        -137.082789   28.675647     Lotus\n",
       "Ford Pantera L       159.413222   53.318347      Ford\n",
       "Ferrari Dino         -64.762396   62.954280   Ferrari\n",
       "Maserati Bora        145.361703  139.049149  Maserati\n",
       "Volvo 142E          -115.181783   13.826313     Volvo"
      ]
     },
     "execution_count": 52,
     "metadata": {},
     "output_type": "execute_result"
    }
   ],
   "source": [
    "import pandas as pd\n",
    "import numpy as np\n",
    "\n",
    "df = pd.read_csv('https://raw.githubusercontent.com/Datamanim/dataq/main/mtcars.csv',index_col=0)\n",
    "\n",
    "\n",
    "brand=[x.split(' ')[0] for x in df.index]\n",
    "\n",
    "df2=df.copy()\n",
    "from sklearn.decomposition import PCA\n",
    "pca=PCA(n_components=2)\n",
    "df2=pd.DataFrame(pca.fit_transform(df2))\n",
    "df2.columns=[['pca1', 'pca2']]\n",
    "df2['brand']=brand\n",
    "df2.index=df.index\n",
    "df2"
   ]
  },
  {
   "cell_type": "code",
   "execution_count": null,
   "metadata": {},
   "outputs": [],
   "source": []
  }
 ],
 "metadata": {
  "kernelspec": {
   "display_name": "Python 3",
   "language": "python",
   "name": "python3"
  },
  "language_info": {
   "codemirror_mode": {
    "name": "ipython",
    "version": 3
   },
   "file_extension": ".py",
   "mimetype": "text/x-python",
   "name": "python",
   "nbconvert_exporter": "python",
   "pygments_lexer": "ipython3",
   "version": "3.8.5"
  }
 },
 "nbformat": 4,
 "nbformat_minor": 4
}
