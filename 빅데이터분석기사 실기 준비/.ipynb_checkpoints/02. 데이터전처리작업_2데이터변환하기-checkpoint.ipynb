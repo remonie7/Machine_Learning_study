{
 "cells": [
  {
   "cell_type": "code",
   "execution_count": null,
   "metadata": {},
   "outputs": [],
   "source": [
    "데이터의 유형을 원하는 형태로 변환할 수 있다.\n",
    "데이터의 범위를 표준화 또는 정규화를 통해 일치시킬 수 있다.\n",
    "기존 변수를 이용하여 의미 있는 새로운 변수를 생성하거나 변수를 선택할 수 있다."
   ]
  },
  {
   "cell_type": "markdown",
   "metadata": {},
   "source": [
    "# 데이터 유형 변환\n",
    "#### 형변환\n",
    "- int to string\n",
    "- string to int 등 ..\n",
    "\n",
    "\n",
    "- 범주형 데이터 변환\n",
    "- 연속형 데이터를 범주형으로 변환 : 카테고리형으로 변환\n",
    "- 비정형 데이터 변환 : 단어의 빈도수 등을 이용해 정형화\n",
    "- 더미 변수화 : 범주형 변수를 연속형 변수로 변환 ( 값이 없으면 0, 있으면 1으로 변환)"
   ]
  },
  {
   "cell_type": "code",
   "execution_count": null,
   "metadata": {},
   "outputs": [],
   "source": [
    "df['a'] = pd.to_numeric(df['a'])\n",
    "df['a']= df['a'].astype(str)\n"
   ]
  },
  {
   "cell_type": "markdown",
   "metadata": {},
   "source": [
    "# 데이터 범위 일치 \n",
    "#### 스케일링\n",
    "- 최소-최대 스케일러 : (x-min)/(max-min) , 0~1사이 데이터로 변환\n",
    "- 최대-절대 스케일러 : 최대 절댓값이 0~1사이에 매핑되게 스케일링\n",
    "- 정규화 : (x-mean)/sd , 평균이 0, 분산이 1인 정규분포로 변환\n",
    "- RobustScaler : (x-median)/IQR , 중앙값이 0, 4분위수크기가 1이 되도록 변환 ( 이상값 영향 최소화한 스케일링 기법)"
   ]
  },
  {
   "cell_type": "code",
   "execution_count": null,
   "metadata": {},
   "outputs": [],
   "source": [
    "# 변수별 scaling 적용\n",
    "from sklearn import preprocessing\n",
    "df['X_scale'] = preprocessing.scale(df['X']) \n",
    "df['X_minmax_scale'] = preprocessing.MinMaxScaler(df['X']\n",
    "df['X_boxcox'] = preprocessing.scale(boxcox(df['X']+1)[0])\n",
    "df['X_robust_scale'] = preprocessing.robust_scale(df['X'])\n",
    "\n",
    "# 데이터 프레임 전체에 scaling 적용\n",
    "from sklearn.preprocessing import StandardScaler\n",
    "from sklearn.preprocessing import MinMaxScaler\n",
    "from sklearn.preprocessing import RobustScaler\n",
    "\n",
    "# StandardScaler\n",
    "for c in df:\n",
    "    df_sc[c] = StandardScaler().fit_transform(df[c].reshape(-1,1)).round(4)\n",
    "\n",
    "# MinMaxScaler\n",
    "for c in df:\n",
    "    df_minmax[c] = MinMaxScaler().fit_transform(df[c].reshape(-1,1).round(4))\n",
    "                                                  \n",
    "# RobustScaler                                                  \n",
    "for c in df:\n",
    "    df_minmax[c] = x_RobustScaler().fit_transform(df[c].reshape(-1,1).round(4))\n"
   ]
  },
  {
   "cell_type": "markdown",
   "metadata": {},
   "source": [
    "# 파생 변수, 변수 선택\n",
    "## 파생 변수\n",
    "#### 데이터 분포 변호나\n",
    "- 지수변환, 로그변환 등\n",
    "\n",
    "\n",
    "## 변수 선택 (실습으로 나온다면 이건 r로 하는 게 나을 것 같다)\n",
    "#### 변수 선택법\n",
    "###### - 부분 집합법\n",
    "- 모든 가능한 변수 조합 고려\n",
    "- 임베디드 기법\n",
    "- 라쏘, 릿지, 엘라스틱넷 등의 방법 사용\n",
    "\n",
    "###### - 전진 선택법\n",
    "- 변수 하나씩 추가하면서\n",
    "- F 검정으로 유의성 검정\n",
    "\n",
    "\n",
    "###### - 후진 제거법\n",
    "- 다중공선성이 높게 나타난 변수를 하나씩 제거\n",
    "\n",
    "###### - 단계적 방법 (Stepwise Selection)\n",
    "\n",
    "\n",
    "\n",
    "#### 차원 축소\n",
    "###### - 주성분분석(PCA)\n",
    "###### - 선형판별분석(LDA)\n",
    "- 지도학습으로 데이터의 분포를 학습하여 결정경계를 만들어 데이터 분류\n",
    "\n",
    "###### - t-분포 확률적 임베딩 (t-SNE)\n",
    "- 고차원에 존재하는 데이터 간의 거리를 최대한 보존하면서 데이터 간의 관계를 저차원으로 축소해 시각화하는 방법\n",
    "\n",
    "###### - 특잇값 분해 (SVD)\n"
   ]
  },
  {
   "cell_type": "code",
   "execution_count": null,
   "metadata": {},
   "outputs": [],
   "source": [
    "import math\n",
    "from sklearn import preprocessing\n",
    "\n",
    "# 특정 변수에만 함수 적용\n",
    "df['X_log'] = preprocessing.scale(np.log(df['X']+1)) # 로그\n",
    "df['X_sqrt'] = preprocessing.scale(np.sqrt(df['X']+1)) # 제곱근\n",
    "\n",
    "# 데이터 프레임 전체에 함수 적용 (단, 숫자형 변수만 있어야 함)\n",
    "df_log = df.apply(lambda x: np.log(x+1)) \n",
    "\n",
    "\n",
    "\n",
    "# 변수선택법 r코드\n",
    "forward = lm(y ~ 1, data=data)\n",
    "backward = lm(y ~ ., data=data)\n",
    "step(forward, direction=\"forward\", scope=list(lower=forward, upper=back))\n",
    "step(backward, direction=\"backward\")\n",
    "step(forward, direction=\"both\", scope=list(upper=back))"
   ]
  }
 ],
 "metadata": {
  "kernelspec": {
   "display_name": "Python 3",
   "language": "python",
   "name": "python3"
  },
  "language_info": {
   "codemirror_mode": {
    "name": "ipython",
    "version": 3
   },
   "file_extension": ".py",
   "mimetype": "text/x-python",
   "name": "python",
   "nbconvert_exporter": "python",
   "pygments_lexer": "ipython3",
   "version": "3.8.5"
  }
 },
 "nbformat": 4,
 "nbformat_minor": 4
}
