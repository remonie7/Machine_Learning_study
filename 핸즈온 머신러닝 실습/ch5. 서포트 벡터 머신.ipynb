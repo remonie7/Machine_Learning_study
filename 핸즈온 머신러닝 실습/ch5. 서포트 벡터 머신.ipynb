{
 "cells": [
  {
   "cell_type": "markdown",
   "metadata": {},
   "source": [
    "서포트 벡터 머신(SVM) 은 매우 강력하고, 선형이나 비선형 분류, 회귀 ,이상치 탐색에도 사용할 수 있는 다목적 머신러닝 모델\n",
    "\n",
    "복잡한 분류 문제에 잘 들어맞으며, 작거나 중간 크기의 데이터셋에 적합"
   ]
  },
  {
   "cell_type": "markdown",
   "metadata": {},
   "source": [
    "## 선형 SVM 분류\n",
    "- 라지 마진 분류 : 결정 경계가, 두 개의 클래스를 잘 나눌 뿐 아니라 제일 가까운 훈련 샘플로부터 가능한 한 멀리 떨어져 있도록 분류하는 것\n",
    "- 결정 경계는 도로 경계에 위치한 샘플에 의해 전적으로 결정된다. 이렇게 경계에 위치한 샘플을 <b>서포트 벡터</b>라고 한다"
   ]
  },
  {
   "cell_type": "markdown",
   "metadata": {},
   "source": [
    "#### 소프트 마진 분류\n",
    "- 하드 마진 분류 : 모든 샘플이 도로 바깥쪽에 올바르게 분류되어 있는 상태\n",
    "- 그러나 이런 하드 마진 분류는 데이터가 선형적으로 구분될 수 있어야 제대로 작동하며, 이상치에 민감하다\n"
   ]
  },
  {
   "cell_type": "code",
   "execution_count": null,
   "metadata": {},
   "outputs": [],
   "source": []
  }
 ],
 "metadata": {
  "kernelspec": {
   "display_name": "Python 3",
   "language": "python",
   "name": "python3"
  },
  "language_info": {
   "codemirror_mode": {
    "name": "ipython",
    "version": 3
   },
   "file_extension": ".py",
   "mimetype": "text/x-python",
   "name": "python",
   "nbconvert_exporter": "python",
   "pygments_lexer": "ipython3",
   "version": "3.8.5"
  }
 },
 "nbformat": 4,
 "nbformat_minor": 4
}
